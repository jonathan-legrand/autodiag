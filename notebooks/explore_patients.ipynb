{
 "cells": [
  {
   "cell_type": "code",
   "execution_count": 3,
   "id": "b10ac929",
   "metadata": {},
   "outputs": [],
   "source": [
    "import numpy as np\n",
    "import pandas as pd\n",
    "\n",
    "llm_patients = pd.read_csv(\"../data/llm_patients.csv\", sep=\"|\")"
   ]
  },
  {
   "cell_type": "code",
   "execution_count": null,
   "id": "d16eb326",
   "metadata": {},
   "outputs": [
    {
     "data": {
      "text/plain": [
       "'social anxiety disorder, major depressive disorder, attention-deficit/hyperactivity disorder'"
      ]
     },
     "execution_count": 12,
     "metadata": {},
     "output_type": "execute_result"
    }
   ],
   "source": [
    "llm_patients.loc[:,\"Medical Conditions\"]"
   ]
  },
  {
   "cell_type": "code",
   "execution_count": 13,
   "id": "2407b4dd",
   "metadata": {},
   "outputs": [
    {
     "data": {
      "text/plain": [
       "Ethnicity Code                                                                                hy_AM\n",
       "Ethnicity                                                                        Armenian - Armenia\n",
       "Clinician Name                                                                         Emil Matejka\n",
       "Appointment Date                                                                            June 26\n",
       "Sex                                                                                            Male\n",
       "Full Name                                                                         Sahak Beknazarian\n",
       "Age                                                                                              51\n",
       "Date of Birth                                                                      November 23 1973\n",
       "Relationship Status                                                                      Common-Law\n",
       "Children                                                                                        Yes\n",
       "Children Details                                  Two children, ages 22 and 25, from a previous ...\n",
       "Handedness                                                                                    right\n",
       "Address                                           81714 Oconnell Ramp Apt. 094, South Donaldches...\n",
       "Occupation                                                                               unemployed\n",
       "Current Doctor(s)                                                                   Dr. Roza Doroba\n",
       "Medical Conditions                                narcissistic personality disorder, avoidant pe...\n",
       "Medications                                                         Fluoxetine (Prozac) (20 mg/day)\n",
       "Health Supplements                                                                      ['calcium']\n",
       "Reason for Appointment                            difficulty managing life transitions or stress...\n",
       "Previous Hospitalizations or Surgeries                                                           No\n",
       "Head Injuries or Concussions                                                                     No\n",
       "History of Seizures                                                                              No\n",
       "Family History of Health Conditions                                                             Yes\n",
       "Family History of Health Conditions Details       Mother had obsessive-compulsive disorder, fath...\n",
       "Siblings                                                                                          1\n",
       "Sibling Details                                   One younger sister, age 48, who has anxiety di...\n",
       "Canadian Citizenship                                                                            Yes\n",
       "Birthplace                                                                   New Danielview, Canada\n",
       "Disabled                                                                                        Yes\n",
       "Learning Disability                                                                             Yes\n",
       "Developmental Disability                                                                         No\n",
       "Learning Disability Details                       Diagnosed with dyslexia in elementary school, ...\n",
       "Disability Assistance                                                                            No\n",
       "Elementary School Performance                                                                  good\n",
       "High School Performance                                                                   excellent\n",
       "Further Education After Highschool                            Post-Secondary Certificate or Diploma\n",
       "Previous Work History                             Worked as a sales representative for 10 years ...\n",
       "Previous Marriages/Long-Term Relationships        One previous marriage that ended in divorce af...\n",
       "Hobbies                                                          Reading, hiking, and playing chess\n",
       "Relaxation Methods                                Meditation, deep breathing exercises, and list...\n",
       "Past Trauma                                                                                     NaN\n",
       "Substance Abuse                                                                                 NaN\n",
       "Typing Style                                                                                  brief\n",
       "Conversational Tone                                                                         neutral\n",
       "Personality Traits                                             ['Open-minded', 'Humble', 'Selfish']\n",
       "Edge Case Scenario                                                                              NaN\n",
       "Recreational Drug Usage                                                                         NaN\n",
       "Rehab or Substance Counselling                                                                  NaN\n",
       "Allergies                                                                                       NaN\n",
       "Previous Hospitalizations or Surgeries Details                                                  NaN\n",
       "Head Injuries or Concussions Details                                                            NaN\n",
       "Developmental Disability Details                                                                NaN\n",
       "Physical Disability                                                                             NaN\n",
       "Physical Disability Details                                                                     NaN\n",
       "Disability Assistance Details                                                                   NaN\n",
       "Name: 0, dtype: object"
      ]
     },
     "execution_count": 13,
     "metadata": {},
     "output_type": "execute_result"
    }
   ],
   "source": [
    "llm_patients.iloc[0]"
   ]
  }
 ],
 "metadata": {
  "kernelspec": {
   "display_name": "autodiag",
   "language": "python",
   "name": "python3"
  },
  "language_info": {
   "codemirror_mode": {
    "name": "ipython",
    "version": 3
   },
   "file_extension": ".py",
   "mimetype": "text/x-python",
   "name": "python",
   "nbconvert_exporter": "python",
   "pygments_lexer": "ipython3",
   "version": "3.13.7"
  }
 },
 "nbformat": 4,
 "nbformat_minor": 5
}
