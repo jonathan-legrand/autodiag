{
 "cells": [
  {
   "cell_type": "code",
   "execution_count": 48,
   "id": "f363fd1f",
   "metadata": {},
   "outputs": [],
   "source": [
    "import pandas as pd\n",
    "import pickle"
   ]
  },
  {
   "cell_type": "code",
   "execution_count": 9,
   "id": "1cec9ac1",
   "metadata": {},
   "outputs": [],
   "source": [
    "data = pd.read_csv('../data/data.csv')"
   ]
  },
  {
   "cell_type": "code",
   "execution_count": 10,
   "id": "781ea3c1",
   "metadata": {},
   "outputs": [],
   "source": [
    "dataframe = {'code' : [], 'symptome' : []}"
   ]
  },
  {
   "cell_type": "code",
   "execution_count": 11,
   "id": "1e4b07b4",
   "metadata": {},
   "outputs": [],
   "source": [
    "for i in data.index : \n",
    "    text = data.description[i].split('..')\n",
    "    for t in text : \n",
    "        dataframe['code'].append(data.code[i])\n",
    "        dataframe['symptome'].append(t)\n",
    "\n",
    "dataframe = pd.DataFrame(dataframe)\n",
    "\n",
    "dataframe.to_csv('../data/datalong.csv')"
   ]
  },
  {
   "cell_type": "code",
   "execution_count": 12,
   "id": "19b68a11",
   "metadata": {},
   "outputs": [],
   "source": [
    "list_symptoms = pd.read_csv('../data/datalong.csv', index_col=0)\n",
    "symptoms_embeds = {\"disorder\" : [], \"symptome\" : [], \"embedding\" : []}"
   ]
  },
  {
   "cell_type": "code",
   "execution_count": null,
   "id": "7f420802",
   "metadata": {},
   "outputs": [],
   "source": [
    "for i in list_symptoms.index : \n",
    "    symptoms_embeds['disorder'].append(list_symptoms.disorder[i])\n",
    "    symptoms_embeds['symptome'].append(list_symptoms.symptome[i])\n",
    "    symptoms_embeds['embedding'].append(get_embedding(list_symptoms.symptome[i]))"
   ]
  },
  {
   "cell_type": "code",
   "execution_count": 14,
   "id": "2fc29cbe",
   "metadata": {},
   "outputs": [],
   "source": [
    "symptoms_embeddings = pd.DataFrame(symptoms_embeds)"
   ]
  },
  {
   "cell_type": "code",
   "execution_count": 33,
   "id": "16ede3f4",
   "metadata": {},
   "outputs": [],
   "source": [
    "with open('../data/symptomes_embedding.pkl', 'wb') as fp:\n",
    "        pickle.dump(symptoms_embeddings, fp)"
   ]
  },
  {
   "cell_type": "code",
   "execution_count": 1,
   "id": "bfbdac55",
   "metadata": {},
   "outputs": [],
   "source": [
    "from openai import OpenAI\n",
    "import numpy as np\n",
    "import pandas as pd\n",
    "\n",
    "MODEL = \"text-embedding-embeddinggemma-300m-qat\"\n",
    "client = OpenAI(\n",
    "    base_url=\"http://127.0.0.1:1234/v1\",\n",
    "    api_key=\"lm-studio\"\n",
    ")\n",
    "def get_embedding(text, model=\"model-identifier\"):\n",
    "   text = text.replace(\"\\n\", \" \")\n",
    "   \n",
    "   embedding = client.embeddings.create(input=[text], model=model).data[0].embedding\n",
    "   return np.array(embedding)\n"
   ]
  },
  {
   "cell_type": "markdown",
   "id": "cdeeec5f",
   "metadata": {},
   "source": []
  }
 ],
 "metadata": {
  "kernelspec": {
   "display_name": ".venv",
   "language": "python",
   "name": "python3"
  },
  "language_info": {
   "codemirror_mode": {
    "name": "ipython",
    "version": 3
   },
   "file_extension": ".py",
   "mimetype": "text/x-python",
   "name": "python",
   "nbconvert_exporter": "python",
   "pygments_lexer": "ipython3",
   "version": "3.11.9"
  }
 },
 "nbformat": 4,
 "nbformat_minor": 5
}
