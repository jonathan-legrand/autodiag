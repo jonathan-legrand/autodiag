{
 "cells": [
  {
   "cell_type": "code",
   "execution_count": 1,
   "id": "f363fd1f",
   "metadata": {},
   "outputs": [],
   "source": [
    "import pandas as pd"
   ]
  },
  {
   "cell_type": "code",
   "execution_count": 2,
   "id": "1cec9ac1",
   "metadata": {},
   "outputs": [],
   "source": [
    "data = pd.read_csv('../data/data.csv')"
   ]
  },
  {
   "cell_type": "code",
   "execution_count": 3,
   "id": "781ea3c1",
   "metadata": {},
   "outputs": [],
   "source": [
    "dataframe = {'code' : [], 'symptome' : []}"
   ]
  },
  {
   "cell_type": "code",
   "execution_count": 4,
   "id": "1e4b07b4",
   "metadata": {},
   "outputs": [],
   "source": [
    "for i in data.index : \n",
    "    text = data.description[i].split('..')\n",
    "    for t in text : \n",
    "        dataframe['code'].append(data.code[i])\n",
    "        dataframe['symptome'].append(t)\n",
    "\n",
    "dataframe = pd.DataFrame(dataframe)\n",
    "\n",
    "# dataframe.to_csv('../data/datalong.csv')"
   ]
  },
  {
   "cell_type": "code",
   "execution_count": 15,
   "id": "2337d608",
   "metadata": {},
   "outputs": [],
   "source": [
    "se = pd.read_csv('../data/symptomes_embedding.csv')\n",
    "disorders = list(set(se.disorder))\n",
    "disorder_frame = pd.DataFrame(disorders)\n",
    "disorder_frame.to_csv('../data/list_disorder.csv')"
   ]
  },
  {
   "cell_type": "code",
   "execution_count": null,
   "id": "0bdebc80",
   "metadata": {},
   "outputs": [],
   "source": []
  }
 ],
 "metadata": {
  "kernelspec": {
   "display_name": "hackrobo",
   "language": "python",
   "name": "python3"
  },
  "language_info": {
   "codemirror_mode": {
    "name": "ipython",
    "version": 3
   },
   "file_extension": ".py",
   "mimetype": "text/x-python",
   "name": "python",
   "nbconvert_exporter": "python",
   "pygments_lexer": "ipython3",
   "version": "3.13.7"
  }
 },
 "nbformat": 4,
 "nbformat_minor": 5
}
